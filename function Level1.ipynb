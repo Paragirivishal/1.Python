{
 "cells": [
  {
   "cell_type": "code",
   "execution_count": 12,
   "id": "acbdb013-c933-48a9-a9f3-f47dfa282e5f",
   "metadata": {},
   "outputs": [],
   "source": [
    "def oddeven():\n",
    "    num=int(input(\"enter the Number:\"))\n",
    "    if (num%2==1):\n",
    "        print(num,\" given number is even\")\n",
    "    else:\n",
    "        print(num, \"given number is odd\")\n",
    "    return\n"
   ]
  },
  {
   "cell_type": "code",
   "execution_count": 13,
   "id": "7fc2bc0a-5d39-4b21-838d-c03d32aa127b",
   "metadata": {},
   "outputs": [
    {
     "name": "stdin",
     "output_type": "stream",
     "text": [
      "enter the Number: 987654\n"
     ]
    },
    {
     "name": "stdout",
     "output_type": "stream",
     "text": [
      "987654 given number is odd\n"
     ]
    }
   ],
   "source": [
    "num1=oddeven()"
   ]
  },
  {
   "cell_type": "code",
   "execution_count": 75,
   "id": "76b0c112-e7c2-4f47-8407-f76f091645cb",
   "metadata": {},
   "outputs": [],
   "source": [
    "def marriage_eligibility(gender,age):\n",
    "   \n",
    "    if gender.lower() == \"male\" and age >= 21:\n",
    "            if (age >=21):\n",
    "                print (\"your ARe eligible to Marriage:\")\n",
    "            else:\n",
    "                print( \"your are not eligible to magrrige\")\n",
    "    elif gender.lower() == \"female\":\n",
    "        if(age>=18):\n",
    "            print ( \"your are eligible to marriage\")\n",
    "        else:\n",
    "            print( \"your are not eligible to marriage\")\n",
    "        return \n",
    "           "
   ]
  },
  {
   "cell_type": "code",
   "execution_count": 91,
   "id": "c63b1da1-1d20-423e-a8f4-a4e78a9b0d1e",
   "metadata": {},
   "outputs": [],
   "source": [
    "def marriage_eligibility(gender,age):\n",
    "   \n",
    "    if gender.lower() == \"male\" and age >= 21:\n",
    "        print (\"your are eligible to Marriage:\")\n",
    "    elif gender.lower() == \"female\" and age>=18:\n",
    "        print ( \"your are eligible to marriage\")\n",
    "    else:\n",
    "        print( \"your are not eligible to marriage\")\n",
    "    return \n",
    "           "
   ]
  },
  {
   "cell_type": "code",
   "execution_count": 92,
   "id": "cae27644-f3f6-430b-9220-9dd20f5c2fc5",
   "metadata": {},
   "outputs": [
    {
     "name": "stdin",
     "output_type": "stream",
     "text": [
      "Enter your gender ('male' or 'female'):  female\n",
      "Enter your age:  14\n"
     ]
    },
    {
     "name": "stdout",
     "output_type": "stream",
     "text": [
      "your are not eligible to marriage\n",
      "None\n"
     ]
    }
   ],
   "source": [
    "gender = input(\"Enter your gender ('male' or 'female'): \")\n",
    "age = int(input(\"Enter your age: \"))\n",
    "\n",
    "status=marriage_eligibility(gender, age)\n",
    "print(status)"
   ]
  },
  {
   "cell_type": "code",
   "execution_count": 78,
   "id": "58456f08-cd0e-46fc-9012-2e1bb2689245",
   "metadata": {},
   "outputs": [],
   "source": [
    "def marriage_eligibility():\n",
    "    gender = input(\"Enter your gender ('male' or 'female'): \")\n",
    "    age = int(input(\"Enter your age: \"))\n",
    "    if gender.lower() == \"male\":\n",
    "        if (age >=21):\n",
    "            print( \"your ARe eligible to Marriage:\")\n",
    "        else:\n",
    "            print( \"your are not eligible to magrrige\")\n",
    "    elif gender.lower() == \"female\":\n",
    "        if(age>=18):\n",
    "            print ( \"your are eligible to marriage\")\n",
    "        else:\n",
    "            print ( \"your are not eligible to marriage\")"
   ]
  },
  {
   "cell_type": "code",
   "execution_count": 79,
   "id": "1379f99c-af0b-4845-bf79-a31c0554c2bf",
   "metadata": {},
   "outputs": [
    {
     "name": "stdin",
     "output_type": "stream",
     "text": [
      "Enter your gender ('male' or 'female'):  female\n",
      "Enter your age:  19\n"
     ]
    },
    {
     "name": "stdout",
     "output_type": "stream",
     "text": [
      "your are eligible to marriage\n",
      "None\n"
     ]
    }
   ],
   "source": [
    "status=marriage_eligibility()\n",
    "print(status)"
   ]
  },
  {
   "cell_type": "code",
   "execution_count": 54,
   "id": "1715951b-f234-46d0-95eb-9e92a8366274",
   "metadata": {},
   "outputs": [
    {
     "name": "stdin",
     "output_type": "stream",
     "text": [
      "Subject1 mark: 90\n",
      "Subject2 mark: 89\n",
      "Subject3 mark: 99\n",
      "Subject4 mark: 96\n",
      "Subject5 mark: 95\n"
     ]
    },
    {
     "name": "stdout",
     "output_type": "stream",
     "text": [
      "Total Marks: 469\n",
      "Percentage: 93.799999999999997%\n"
     ]
    }
   ],
   "source": [
    "def findpercent():\n",
    "    subject1=int(input(\"Subject1 mark:\"))\n",
    "    subject2=int(input(\"Subject2 mark:\"))\n",
    "    subject3=int(input(\"Subject3 mark:\"))\n",
    "    subject4=int(input(\"Subject4 mark:\"))\n",
    "    subject5=int(input(\"Subject5 mark:\"))\n",
    "    total = subject1+subject2+subject3+subject4+subject5\n",
    "    percent= (total/5)\n",
    "    print(f\"Total Marks: {total}\")\n",
    "    print(f\"Percentage: {percent:.15f}%\")\n",
    "\n",
    "\n",
    "findpercent()"
   ]
  },
  {
   "cell_type": "code",
   "execution_count": 51,
   "id": "a3df0e68-7658-4714-8049-c13abdbd8aa2",
   "metadata": {},
   "outputs": [
    {
     "name": "stdout",
     "output_type": "stream",
     "text": [
      "Sub-fields in AI are:\n",
      "Machine Learning\n",
      "Neural Networks\n",
      "Vision\n",
      "Robotics\n",
      "Speech Processing\n",
      "Natural Language Processing\n"
     ]
    }
   ],
   "source": [
    "def subfields_in_ai():\n",
    "\n",
    "    subfields = [\n",
    "            \"Machine Learning\",\n",
    "            \"Neural Networks\",\n",
    "            \"Vision\",\n",
    "            \"Robotics\",\n",
    "            \"Speech Processing\",\n",
    "            \"Natural Language Processing\"\n",
    "            ]\n",
    "    print(\"Sub-fields in AI are:\")\n",
    "    for subfield in subfields:\n",
    "        print(subfield)\n",
    "\n",
    "\n",
    "subfields_in_ai()"
   ]
  },
  {
   "cell_type": "code",
   "execution_count": 65,
   "id": "855ab6c9-f833-446a-af6f-964a8e68e2c2",
   "metadata": {},
   "outputs": [
    {
     "name": "stdin",
     "output_type": "stream",
     "text": [
      "Height: 32\n",
      "Breadth: 34\n"
     ]
    },
    {
     "name": "stdout",
     "output_type": "stream",
     "text": [
      "Area formula: (Height*Breadth)/2\n",
      "area of triangle: 544.0\n"
     ]
    },
    {
     "name": "stdin",
     "output_type": "stream",
     "text": [
      "Height1: 2\n",
      "Height2: 4\n",
      "Breadth: 4\n"
     ]
    },
    {
     "name": "stdout",
     "output_type": "stream",
     "text": [
      "Perimeter formula: Height1+Height2+Breadth\n",
      "Perimeter of Triangle: 10.0\n"
     ]
    }
   ],
   "source": [
    "def triangle_cal():\n",
    "    height=float(input(\"Height:\"))\n",
    "    breadth=float(input(\"Breadth:\"))\n",
    "    print(\"Area formula: (Height*Breadth)/2\")\n",
    "    area=(height*breadth)/2\n",
    "    print(\"area of triangle:\",area)\n",
    "\n",
    "    height1=float(input(\"Height1:\"))\n",
    "    height2=float(input(\"Height2:\"))\n",
    "    breadth=float(input(\"Breadth:\"))\n",
    "    print(\"Perimeter formula: Height1+Height2+Breadth\")\n",
    "    traingle = height1+height2+breadth\n",
    "    print(\"Perimeter of Triangle:\",traingle)\n",
    "   \n",
    "\n",
    "triangle_cal()\n",
    "\n",
    "\n"
   ]
  },
  {
   "cell_type": "code",
   "execution_count": null,
   "id": "a05b9adc-fa0b-45cd-bfd6-444dbcec1f16",
   "metadata": {},
   "outputs": [],
   "source": []
  }
 ],
 "metadata": {
  "kernelspec": {
   "display_name": "Python 3 (ipykernel)",
   "language": "python",
   "name": "python3"
  },
  "language_info": {
   "codemirror_mode": {
    "name": "ipython",
    "version": 3
   },
   "file_extension": ".py",
   "mimetype": "text/x-python",
   "name": "python",
   "nbconvert_exporter": "python",
   "pygments_lexer": "ipython3",
   "version": "3.12.7"
  }
 },
 "nbformat": 4,
 "nbformat_minor": 5
}
