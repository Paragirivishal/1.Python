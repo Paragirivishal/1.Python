{
 "cells": [
  {
   "cell_type": "code",
   "execution_count": 1,
   "id": "9f5b4c97-26a9-4c74-bbc3-7c1c02f3b322",
   "metadata": {},
   "outputs": [
    {
     "name": "stdin",
     "output_type": "stream",
     "text": [
      "Value: 10\n"
     ]
    },
    {
     "name": "stdout",
     "output_type": "stream",
     "text": [
      "correct\n"
     ]
    }
   ],
   "source": [
    "i= int(input(\"Value:\"))\n",
    "if (i==10):\n",
    "    print(\"correct\")\n",
    "    \n",
    "       "
   ]
  },
  {
   "cell_type": "code",
   "execution_count": 5,
   "id": "4eaba4fd-37df-4eb5-847a-d8b28982bdd7",
   "metadata": {},
   "outputs": [
    {
     "name": "stdin",
     "output_type": "stream",
     "text": [
      "Enter your password: hello\n"
     ]
    },
    {
     "name": "stdout",
     "output_type": "stream",
     "text": [
      "your password is not correct\n"
     ]
    }
   ],
   "source": [
    "value=\"Hope@123\"\n",
    "value1=input(\"Enter your password:\")\n",
    "if value1 == value:\n",
    "    print(\"your password is correct\")\n",
    "else:\n",
    "    print(\"your password is not correct\")\n"
   ]
  },
  {
   "cell_type": "code",
   "execution_count": 9,
   "id": "fbcd9c0d-9f8b-4a19-bc56-f5fef914ec17",
   "metadata": {},
   "outputs": [
    {
     "name": "stdin",
     "output_type": "stream",
     "text": [
      "enter age: 20\n"
     ]
    },
    {
     "name": "stdout",
     "output_type": "stream",
     "text": [
      "adult\n"
     ]
    }
   ],
   "source": [
    "age= int(input(\"enter age:\"))\n",
    "if(age<=18):\n",
    "      print(\"child\")\n",
    "elif(age<= 25):\n",
    "    print(\"adult\")\n",
    "elif(age<=40):\n",
    "    print(\"citizen\")\n",
    "else:\n",
    "    print(\"senior citizen\")\n",
    "        "
   ]
  },
  {
   "cell_type": "code",
   "execution_count": 12,
   "id": "7db2f06c-efe1-400c-8d7b-8752e83b673f",
   "metadata": {},
   "outputs": [
    {
     "name": "stdin",
     "output_type": "stream",
     "text": [
      "Enter a value: -2\n"
     ]
    },
    {
     "name": "stdout",
     "output_type": "stream",
     "text": [
      "your number is negative\n"
     ]
    }
   ],
   "source": [
    "num=int(input(\"Enter a value:\"))\n",
    "\n",
    "if(num > 0):\n",
    "    print(\"your number is positive\")\n",
    "elif(num < 1):\n",
    "    print(\"your number is negative\")\n",
    "        "
   ]
  },
  {
   "cell_type": "code",
   "execution_count": 14,
   "id": "4ca3c3cd-6dc1-4560-9f43-388ed80708b2",
   "metadata": {},
   "outputs": [
    {
     "name": "stdin",
     "output_type": "stream",
     "text": [
      "Enter a value: 18\n"
     ]
    },
    {
     "name": "stdout",
     "output_type": "stream",
     "text": [
      "no is not divisible by 5\n"
     ]
    }
   ],
   "source": [
    "num=int(input(\"Enter a value:\"))\n",
    "\n",
    "if(num % 5 == 0):\n",
    "    print(\"no is divisible by 5\")\n",
    "else:\n",
    "    print(\"no is not divisible by 5\")"
   ]
  },
  {
   "cell_type": "code",
   "execution_count": null,
   "id": "a3f30064-1000-47f6-8b23-2d48ce02962d",
   "metadata": {},
   "outputs": [],
   "source": []
  }
 ],
 "metadata": {
  "kernelspec": {
   "display_name": "Python 3 (ipykernel)",
   "language": "python",
   "name": "python3"
  },
  "language_info": {
   "codemirror_mode": {
    "name": "ipython",
    "version": 3
   },
   "file_extension": ".py",
   "mimetype": "text/x-python",
   "name": "python",
   "nbconvert_exporter": "python",
   "pygments_lexer": "ipython3",
   "version": "3.12.7"
  }
 },
 "nbformat": 4,
 "nbformat_minor": 5
}
