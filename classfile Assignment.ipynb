{
 "cells": [
  {
   "cell_type": "code",
   "execution_count": 29,
   "id": "a9bdecc1-23fd-460c-a601-32ecc0b48802",
   "metadata": {},
   "outputs": [],
   "source": [
    "from functions import multiplefunction\n",
    "#from filename import classname-- syntax"
   ]
  },
  {
   "cell_type": "code",
   "execution_count": 30,
   "id": "2589ea28-692f-41b6-b001-04261612b393",
   "metadata": {},
   "outputs": [
    {
     "name": "stdin",
     "output_type": "stream",
     "text": [
      "enter the Number: 654432\n"
     ]
    },
    {
     "name": "stdout",
     "output_type": "stream",
     "text": [
      "654432 given number is odd\n"
     ]
    }
   ],
   "source": [
    "multiplefunction.oddeven()\n",
    "#classname.functionname()----syntax"
   ]
  },
  {
   "cell_type": "code",
   "execution_count": 31,
   "id": "7e88d67a-d1ba-4c45-b727-b9a8a6dc134c",
   "metadata": {},
   "outputs": [
    {
     "name": "stdin",
     "output_type": "stream",
     "text": [
      "Enter your gender ('male' or 'female'):  female\n",
      "Enter your age:  21\n"
     ]
    },
    {
     "data": {
      "text/plain": [
       "'your are eligible to marriage'"
      ]
     },
     "execution_count": 31,
     "metadata": {},
     "output_type": "execute_result"
    }
   ],
   "source": [
    "multiplefunction.marriage_eligibility()\n"
   ]
  },
  {
   "cell_type": "code",
   "execution_count": 32,
   "id": "83ce9610-83e3-437c-ba86-5f4f5e25e060",
   "metadata": {},
   "outputs": [
    {
     "name": "stdout",
     "output_type": "stream",
     "text": [
      "Sub-fields in AI are:\n",
      "Machine Learning\n",
      "Neural Networks\n",
      "Vision\n",
      "Robotics\n",
      "Speech Processing\n",
      "Natural Language Processing\n"
     ]
    }
   ],
   "source": [
    "multiplefunction.subfields_in_ai()"
   ]
  },
  {
   "cell_type": "code",
   "execution_count": 33,
   "id": "534ecf32-c3f7-4c6c-a4e0-35304faddd0e",
   "metadata": {},
   "outputs": [
    {
     "name": "stdin",
     "output_type": "stream",
     "text": [
      "Subject1 mark: 90\n",
      "Subject2 mark: 99\n",
      "Subject3 mark: 98\n",
      "Subject4 mark: 97\n",
      "Subject5 mark: 96\n"
     ]
    },
    {
     "name": "stdout",
     "output_type": "stream",
     "text": [
      "Total Marks: 480\n",
      "Percentage: 96.000000000000000%\n"
     ]
    }
   ],
   "source": [
    "multiplefunction.findpercent()"
   ]
  },
  {
   "cell_type": "code",
   "execution_count": 34,
   "id": "4bc46d81-1dcc-49ea-aa06-5ae0611c8e07",
   "metadata": {},
   "outputs": [
    {
     "name": "stdin",
     "output_type": "stream",
     "text": [
      "Height: 34\n",
      "Breadth: 32\n"
     ]
    },
    {
     "name": "stdout",
     "output_type": "stream",
     "text": [
      "Area formula: (Height*Breadth)/2\n",
      "area of triangle: 544.0\n"
     ]
    },
    {
     "name": "stdin",
     "output_type": "stream",
     "text": [
      "Height1: 2\n",
      "Height2: 2\n",
      "Breadth: 4\n"
     ]
    },
    {
     "name": "stdout",
     "output_type": "stream",
     "text": [
      "Perimeter formula: Height1+Height2+Breadth\n",
      "Perimeter of Triangle: 8.0\n"
     ]
    }
   ],
   "source": [
    "multiplefunction.triangle_cal()"
   ]
  },
  {
   "cell_type": "code",
   "execution_count": null,
   "id": "9e8926ca-739d-4405-ac52-827c0613a5b6",
   "metadata": {},
   "outputs": [],
   "source": []
  }
 ],
 "metadata": {
  "kernelspec": {
   "display_name": "Python 3 (ipykernel)",
   "language": "python",
   "name": "python3"
  },
  "language_info": {
   "codemirror_mode": {
    "name": "ipython",
    "version": 3
   },
   "file_extension": ".py",
   "mimetype": "text/x-python",
   "name": "python",
   "nbconvert_exporter": "python",
   "pygments_lexer": "ipython3",
   "version": "3.12.7"
  }
 },
 "nbformat": 4,
 "nbformat_minor": 5
}
