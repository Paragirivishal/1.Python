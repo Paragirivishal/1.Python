{
 "cells": [
  {
   "cell_type": "code",
   "execution_count": 1,
   "id": "01a651e2-3682-48ca-a722-129d9b7bdaba",
   "metadata": {},
   "outputs": [
    {
     "name": "stdout",
     "output_type": "stream",
     "text": [
      "HOPE AI\n"
     ]
    }
   ],
   "source": [
    "# print statement \n",
    "\n",
    "print(\"HOPE AI\")\n",
    "\n"
   ]
  },
  {
   "cell_type": "code",
   "execution_count": 3,
   "id": "2184b04a-8f87-42be-9dc5-e5f9ab1942e4",
   "metadata": {},
   "outputs": [
    {
     "name": "stdout",
     "output_type": "stream",
     "text": [
      "Enter your institute name?: HOPE AI\n"
     ]
    }
   ],
   "source": [
    "var=\"HOPE AI\"\n",
    "\n",
    "print(\"Enter your institute name?:\",var)\n",
    "\n"
   ]
  },
  {
   "cell_type": "code",
   "execution_count": 14,
   "id": "c4d15952-e001-4a8d-8ff0-c2b6abde81ce",
   "metadata": {},
   "outputs": [
    {
     "name": "stdin",
     "output_type": "stream",
     "text": [
      "Enter your Name guru\n",
      "Enter your age 25\n",
      "Enter your school guru school\n",
      "Enter your degree B.E CSE\n"
     ]
    },
    {
     "name": "stdout",
     "output_type": "stream",
     "text": [
      "Enter your name: guru\n",
      "Enter your age: 25\n",
      "Enter your school name: guru school\n",
      "Enter your degree: B.E CSE\n"
     ]
    }
   ],
   "source": [
    "#Enter your name: Raj\n",
    "#Enter your age: 15\n",
    "#Enter your school name: Guru school\n",
    "#Enter your drgree: B.E CSE\n",
    "\n",
    "\n",
    "name= input(\"Enter your Name\")\n",
    "age= int(input(\"Enter your age\"))\n",
    "school_name =input(\"Enter your school\")\n",
    "drgree=input(\"Enter your degree\")\n",
    "print(\"Enter your name:\",name)\n",
    "print(\"Enter your age:\",age)\n",
    "print(\"Enter your school name:\",school_name)\n",
    "print(\"Enter your degree:\",drgree)\n"
   ]
  },
  {
   "cell_type": "code",
   "execution_count": 12,
   "id": "9fdb5709-2d7c-4685-853b-8c71640411b4",
   "metadata": {},
   "outputs": [
    {
     "name": "stdout",
     "output_type": "stream",
     "text": [
      "added value is: 77\n",
      "subration value is: 9\n"
     ]
    }
   ],
   "source": [
    "a= 43\n",
    "b= 34\n",
    "add= a+b\n",
    "sub= a-b\n",
    "print(\"added value is:\",add)\n",
    "print(\"subration value is:\",sub)\n",
    "\n"
   ]
  },
  {
   "cell_type": "code",
   "execution_count": 9,
   "id": "26f2a70b-8e98-41cf-bcb7-23ff9682867f",
   "metadata": {},
   "outputs": [
    {
     "name": "stdout",
     "output_type": "stream",
     "text": [
      "Multiplication value is: 6111\n"
     ]
    }
   ],
   "source": [
    "a= 63\n",
    "b= 97\n",
    "mul= a*b\n",
    "print(\"Multiplication value is:\",mul)"
   ]
  },
  {
   "cell_type": "code",
   "execution_count": 11,
   "id": "245917cd-3762-4c89-b4eb-1033ddd80ded",
   "metadata": {},
   "outputs": [
    {
     "name": "stdout",
     "output_type": "stream",
     "text": [
      "Float Div is: 2.4516129032258065\n",
      "Floor division: 2\n",
      "Modulo value is: 14\n"
     ]
    }
   ],
   "source": [
    "a= 76\n",
    "b= 31\n",
    "div= a/b\n",
    "div1= a//b\n",
    "mod =a % b\n",
    "print(\"Float Div is:\",div)\n",
    "print(\"Floor division:\",div1)\n",
    "print(\"Modulo value is:\",mod)\n",
    "\n",
    "\n"
   ]
  },
  {
   "cell_type": "code",
   "execution_count": 13,
   "id": "68eb0a79-32aa-4e9e-8874-00147f309ed1",
   "metadata": {},
   "outputs": [
    {
     "name": "stdout",
     "output_type": "stream",
     "text": [
      "power value is: 256\n"
     ]
    }
   ],
   "source": [
    "a=4\n",
    "b=4\n",
    "power= a**b\n",
    "print(\"power value is:\",power)"
   ]
  },
  {
   "cell_type": "code",
   "execution_count": null,
   "id": "520c2bcc-701b-4a32-be96-c0476b5a0bae",
   "metadata": {},
   "outputs": [],
   "source": []
  }
 ],
 "metadata": {
  "kernelspec": {
   "display_name": "Python 3 (ipykernel)",
   "language": "python",
   "name": "python3"
  },
  "language_info": {
   "codemirror_mode": {
    "name": "ipython",
    "version": 3
   },
   "file_extension": ".py",
   "mimetype": "text/x-python",
   "name": "python",
   "nbconvert_exporter": "python",
   "pygments_lexer": "ipython3",
   "version": "3.12.7"
  }
 },
 "nbformat": 4,
 "nbformat_minor": 5
}
